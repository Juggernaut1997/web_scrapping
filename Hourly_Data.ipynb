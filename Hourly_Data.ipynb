{
 "cells": [
  {
   "cell_type": "code",
   "execution_count": 191,
   "metadata": {},
   "outputs": [],
   "source": [
    "import requests\n",
    "from bs4 import BeautifulSoup\n",
    "\n",
    "r = [requests.get(\"https://weather.com/en-IN/weather/hourbyhour/l/af0090e511753689888b5d033e38b4b54cdf7cc17e8fdcb48396674bfeabb61b\"), requests.get(\"https://weather.com/en-IN/weather/hourbyhour/l/d7f5a4af529e40b0a82d339e5467e8946a15a6418eab0d3dcfdd8b63a686a945\"), requests.get(\"https://weather.com/en-IN/weather/hourbyhour/l/26596b4c13c410296f8d86b9502dd28c43ec534d290b9fca2ba0e46f2f97a9f5\")]\n",
    "c = [r[0].content, r[1].content, r[2].content]\n",
    "soup = [BeautifulSoup(c[0], \"html.parser\"), BeautifulSoup(c[1], \"html.parser\"), BeautifulSoup(c[2], \"html.parser\")]\n",
    "\n",
    "a=[]\n",
    "b=[]\n",
    "l = []\n",
    "for s in soup:\n",
    "    m={\"City\":[],\"Time/Temperature\":[]}\n",
    "    day = s.find_all(\"div\", {\"class\":\"hourly-date\"})\n",
    "    time = s.find_all(\"span\", {\"class\":\"dsx-date\"})\n",
    "    temp = s.find_all(\"td\", {\"class\":\"temp\"})\n",
    "    for dy, t, tem in zip(day, time, temp):\n",
    "        a.append({s.find(\"div\",{\"class\":\"locations-title hourly-page-title\"}).find(\"h1\").text})\n",
    "        b.append({dy.text + \"|\" + t.text + \"/\" + tem.find_all(\"span\",{\"class\":\"\"})[0].text})\n",
    "    l.append(m)\n",
    "\n",
    "import pandas\n",
    "df1 = pandas.DataFrame.from_dict(a)\n",
    "df2 = pandas.DataFrame.from_dict(b)\n",
    "\n",
    "pandas.concat([df1,df2], axis =1).to_csv(\"hourly_data.csv\")"
   ]
  }
 ],
 "metadata": {
  "kernelspec": {
   "display_name": "Python 3",
   "language": "python",
   "name": "python3"
  },
  "language_info": {
   "codemirror_mode": {
    "name": "ipython",
    "version": 3
   },
   "file_extension": ".py",
   "mimetype": "text/x-python",
   "name": "python",
   "nbconvert_exporter": "python",
   "pygments_lexer": "ipython3",
   "version": "3.6.5"
  }
 },
 "nbformat": 4,
 "nbformat_minor": 2
}
